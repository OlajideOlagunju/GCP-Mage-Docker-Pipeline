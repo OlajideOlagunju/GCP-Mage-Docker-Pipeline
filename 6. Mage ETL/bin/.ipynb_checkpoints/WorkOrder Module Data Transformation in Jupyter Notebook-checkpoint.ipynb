{
 "cells": [
  {
   "cell_type": "code",
   "execution_count": 1,
   "id": "cec8c14d-d2ea-44dc-abb8-dd7e5ca7da40",
   "metadata": {
    "tags": []
   },
   "outputs": [],
   "source": [
    "import pandas as pd"
   ]
  },
  {
   "cell_type": "code",
   "execution_count": 4,
   "id": "8c1c6345-737f-4f13-8918-365cb8dcc222",
   "metadata": {
    "tags": []
   },
   "outputs": [],
   "source": [
    "df = pd.read_csv(\"work-order-management-module.csv\")"
   ]
  },
  {
   "cell_type": "code",
   "execution_count": 5,
   "id": "93857b98-bae9-4156-bd4b-35f776438336",
   "metadata": {
    "tags": []
   },
   "outputs": [
    {
     "data": {
      "text/html": [
       "<div>\n",
       "<style scoped>\n",
       "    .dataframe tbody tr th:only-of-type {\n",
       "        vertical-align: middle;\n",
       "    }\n",
       "\n",
       "    .dataframe tbody tr th {\n",
       "        vertical-align: top;\n",
       "    }\n",
       "\n",
       "    .dataframe thead th {\n",
       "        text-align: right;\n",
       "    }\n",
       "</style>\n",
       "<table border=\"1\" class=\"dataframe\">\n",
       "  <thead>\n",
       "    <tr style=\"text-align: right;\">\n",
       "      <th></th>\n",
       "      <th>SVC_REQUEST_NUMBER</th>\n",
       "      <th>WORKORDER_NUMBER</th>\n",
       "      <th>WORKORDER_ACTIVITY_CODE</th>\n",
       "      <th>WORKORDER_ACTIVITY_DESCRIPTION</th>\n",
       "      <th>WORKORDER_STARTED</th>\n",
       "      <th>WORKORDER_COMPLETED</th>\n",
       "      <th>WORKORDER_ADDED</th>\n",
       "      <th>TIME_STAMP</th>\n",
       "    </tr>\n",
       "  </thead>\n",
       "  <tbody>\n",
       "    <tr>\n",
       "      <th>0</th>\n",
       "      <td>860449</td>\n",
       "      <td>895401</td>\n",
       "      <td>SA25</td>\n",
       "      <td>REPAIR CONNECTION</td>\n",
       "      <td>NaN</td>\n",
       "      <td>NaN</td>\n",
       "      <td>2004-07-16T10:00:04.000</td>\n",
       "      <td>2015-07-07T00:45:01.000</td>\n",
       "    </tr>\n",
       "    <tr>\n",
       "      <th>1</th>\n",
       "      <td>168089</td>\n",
       "      <td>100322</td>\n",
       "      <td>SA27</td>\n",
       "      <td>PERFORM OTHER MANHOLE WORK</td>\n",
       "      <td>NaN</td>\n",
       "      <td>NaN</td>\n",
       "      <td>2000-06-01T13:20:07.000</td>\n",
       "      <td>2015-06-29T00:40:55.000</td>\n",
       "    </tr>\n",
       "    <tr>\n",
       "      <th>2</th>\n",
       "      <td>428803</td>\n",
       "      <td>843089280</td>\n",
       "      <td>WA10</td>\n",
       "      <td>RESET/REPLACE VALVE BOX</td>\n",
       "      <td>2015-06-10T08:20:00.000</td>\n",
       "      <td>2015-06-10T11:00:00.000</td>\n",
       "      <td>2002-04-08T23:03:19.000</td>\n",
       "      <td>2015-06-16T00:45:01.000</td>\n",
       "    </tr>\n",
       "    <tr>\n",
       "      <th>3</th>\n",
       "      <td>185634611</td>\n",
       "      <td>842762063</td>\n",
       "      <td>SA26</td>\n",
       "      <td>REPLACE MANHOLE CASTING</td>\n",
       "      <td>2016-02-25T00:45:00.000</td>\n",
       "      <td>2016-02-25T03:00:00.000</td>\n",
       "      <td>2013-09-03T09:13:14.000</td>\n",
       "      <td>2016-02-26T00:45:03.000</td>\n",
       "    </tr>\n",
       "    <tr>\n",
       "      <th>4</th>\n",
       "      <td>895478</td>\n",
       "      <td>842882322</td>\n",
       "      <td>SRL</td>\n",
       "      <td>LINE SEWER (CONTRACTOR)</td>\n",
       "      <td>2016-11-29T00:00:00.000</td>\n",
       "      <td>2016-12-13T00:00:00.000</td>\n",
       "      <td>2014-04-23T13:47:23.000</td>\n",
       "      <td>2017-01-10T00:45:01.000</td>\n",
       "    </tr>\n",
       "  </tbody>\n",
       "</table>\n",
       "</div>"
      ],
      "text/plain": [
       "   SVC_REQUEST_NUMBER  WORKORDER_NUMBER WORKORDER_ACTIVITY_CODE  \\\n",
       "0              860449            895401                    SA25   \n",
       "1              168089            100322                    SA27   \n",
       "2              428803         843089280                    WA10   \n",
       "3           185634611         842762063                    SA26   \n",
       "4              895478         842882322                     SRL   \n",
       "\n",
       "  WORKORDER_ACTIVITY_DESCRIPTION        WORKORDER_STARTED  \\\n",
       "0              REPAIR CONNECTION                      NaN   \n",
       "1     PERFORM OTHER MANHOLE WORK                      NaN   \n",
       "2        RESET/REPLACE VALVE BOX  2015-06-10T08:20:00.000   \n",
       "3        REPLACE MANHOLE CASTING  2016-02-25T00:45:00.000   \n",
       "4        LINE SEWER (CONTRACTOR)  2016-11-29T00:00:00.000   \n",
       "\n",
       "       WORKORDER_COMPLETED          WORKORDER_ADDED               TIME_STAMP  \n",
       "0                      NaN  2004-07-16T10:00:04.000  2015-07-07T00:45:01.000  \n",
       "1                      NaN  2000-06-01T13:20:07.000  2015-06-29T00:40:55.000  \n",
       "2  2015-06-10T11:00:00.000  2002-04-08T23:03:19.000  2015-06-16T00:45:01.000  \n",
       "3  2016-02-25T03:00:00.000  2013-09-03T09:13:14.000  2016-02-26T00:45:03.000  \n",
       "4  2016-12-13T00:00:00.000  2014-04-23T13:47:23.000  2017-01-10T00:45:01.000  "
      ]
     },
     "execution_count": 5,
     "metadata": {},
     "output_type": "execute_result"
    }
   ],
   "source": [
    "df.head()"
   ]
  },
  {
   "cell_type": "code",
   "execution_count": null,
   "id": "65eb96cd-bb76-40fd-bfb0-b949dd3d087c",
   "metadata": {},
   "outputs": [],
   "source": []
  }
 ],
 "metadata": {
  "kernelspec": {
   "display_name": "Python 3 (ipykernel)",
   "language": "python",
   "name": "python3"
  },
  "language_info": {
   "codemirror_mode": {
    "name": "ipython",
    "version": 3
   },
   "file_extension": ".py",
   "mimetype": "text/x-python",
   "name": "python",
   "nbconvert_exporter": "python",
   "pygments_lexer": "ipython3",
   "version": "3.8.16"
  }
 },
 "nbformat": 4,
 "nbformat_minor": 5
}
